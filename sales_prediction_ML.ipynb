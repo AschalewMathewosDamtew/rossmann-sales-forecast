{
 "cells": [
  {
   "cell_type": "markdown",
   "metadata": {},
   "source": [
    "#### Import Necessary Libraries\n",
    "The following libraries are required for data processing, scaling, modeling, and evaluation."
   ]
  },
  {
   "cell_type": "code",
   "execution_count": 18,
   "metadata": {},
   "outputs": [],
   "source": [
    "import pandas as pd\n",
    "import numpy as np\n",
    "from sklearn.preprocessing import StandardScaler\n",
    "from sklearn.model_selection import train_test_split\n",
    "from sklearn.ensemble import RandomForestRegressor\n",
    "from sklearn.metrics import mean_squared_error\n",
    "pd.set_option('future.no_silent_downcasting', True)"
   ]
  },
  {
   "cell_type": "markdown",
   "metadata": {},
   "source": [
    "#### 1. Load Data\n",
    "We start by loading the `train.csv`, `test.csv`, and `store.csv` files. We will merge the `store.csv` with both the `train.csv` and `test.csv` datasets to include additional information about each store."
   ]
  },
  {
   "cell_type": "code",
   "execution_count": 10,
   "metadata": {},
   "outputs": [
    {
     "name": "stderr",
     "output_type": "stream",
     "text": [
      "C:\\Users\\biement fanteye\\AppData\\Local\\Temp\\ipykernel_18952\\3909476591.py:2: DtypeWarning: Columns (7) have mixed types. Specify dtype option on import or set low_memory=False.\n",
      "  train = pd.read_csv('train.csv')\n"
     ]
    }
   ],
   "source": [
    "# Load the datasets\n",
    "train = pd.read_csv('train.csv')\n",
    "test = pd.read_csv('test.csv')\n",
    "store = pd.read_csv('store.csv')\n",
    "\n",
    "# Merge train and store data\n",
    "train = pd.merge(train, store, on='Store', how='left')\n",
    "test = pd.merge(test, store, on='Store', how='left')"
   ]
  },
  {
   "cell_type": "markdown",
   "metadata": {},
   "source": [
    "#### Handle Missing Values\n",
    "Fill missing values in columns like `CompetitionDistance`, `Promo2SinceYear`, `Promo2SinceWeek`, and `PromoInterval`. The competition distance is filled with the median, while promo-related columns are filled with 0, assuming no promotion."
   ]
  },
  {
   "cell_type": "code",
   "execution_count": 11,
   "metadata": {},
   "outputs": [],
   "source": [
    "# Fill missing values in 'CompetitionDistance'\n",
    "train['CompetitionDistance'] = train['CompetitionDistance'].fillna(train['CompetitionDistance'].median())\n",
    "test['CompetitionDistance'] = test['CompetitionDistance'].fillna(test['CompetitionDistance'].median())\n",
    "\n",
    "# Handle missing values in Promo2-related columns\n",
    "train['Promo2SinceYear'] = train['Promo2SinceYear'].fillna(0)\n",
    "train['Promo2SinceWeek'] = train['Promo2SinceWeek'].fillna(0)\n",
    "train['PromoInterval'] = train['PromoInterval'].fillna(0)\n",
    "\n",
    "test['Promo2SinceYear'] = test['Promo2SinceYear'].fillna(0)\n",
    "test['Promo2SinceWeek'] = test['Promo2SinceWeek'].fillna(0)\n",
    "test['PromoInterval'] = test['PromoInterval'].fillna(0)"
   ]
  },
  {
   "cell_type": "markdown",
   "metadata": {},
   "source": [
    "#### Datetime Feature Extraction\n",
    "Extract new features from the `Date` column, such as year, month, day, week of the year, day of the week, and whether it's a weekend or not."
   ]
  },
  {
   "cell_type": "code",
   "execution_count": 12,
   "metadata": {},
   "outputs": [],
   "source": [
    "# Convert Date to datetime format\n",
    "train['Date'] = pd.to_datetime(train['Date'])\n",
    "test['Date'] = pd.to_datetime(test['Date'])\n",
    "\n",
    "# Extract relevant datetime features\n",
    "train['Year'] = train['Date'].dt.year\n",
    "train['Month'] = train['Date'].dt.month\n",
    "train['Day'] = train['Date'].dt.day\n",
    "train['WeekOfYear'] = train['Date'].dt.isocalendar().week\n",
    "train['DayOfWeek'] = train['Date'].dt.dayofweek\n",
    "train['IsWeekend'] = train['DayOfWeek'].apply(lambda x: 1 if x >= 5 else 0)\n",
    "\n",
    "test['Year'] = test['Date'].dt.year\n",
    "test['Month'] = test['Date'].dt.month\n",
    "test['Day'] = test['Date'].dt.day\n",
    "test['WeekOfYear'] = test['Date'].dt.isocalendar().week\n",
    "test['DayOfWeek'] = test['Date'].dt.dayofweek\n",
    "test['IsWeekend'] = test['DayOfWeek'].apply(lambda x: 1 if x >= 5 else 0)"
   ]
  },
  {
   "cell_type": "markdown",
   "metadata": {},
   "source": [
    "#### Convert Categorical Columns\n",
    "Convert categorical features like `StateHoliday`, `StoreType`, and `Assortment` into numeric format. For `StateHoliday`, map the holiday types into integers, and for `StoreType` and `Assortment`, use one-hot encoding."
   ]
  },
  {
   "cell_type": "code",
   "execution_count": 13,
   "metadata": {},
   "outputs": [],
   "source": [
    "# Convert StateHoliday, StoreType, Assortment to numeric using Label Encoding\n",
    "train['StateHoliday'] = train['StateHoliday'].replace({'0': 0, 'a': 1, 'b': 2, 'c': 3}).astype(int)\n",
    "test['StateHoliday'] = test['StateHoliday'].replace({'0': 0, 'a': 1, 'b': 2, 'c': 3}).astype(int)\n",
    "\n",
    "# One-hot encode StoreType and Assortment\n",
    "train = pd.get_dummies(train, columns=['StoreType', 'Assortment'], drop_first=True)\n",
    "test = pd.get_dummies(test, columns=['StoreType', 'Assortment'], drop_first=True)"
   ]
  },
  {
   "cell_type": "markdown",
   "metadata": {},
   "source": [
    "#### Feature Scaling\n",
    "Use the `StandardScaler` to normalize numerical features like `CompetitionDistance`, `Promo2SinceYear`, and `Promo2SinceWeek` for better model performance."
   ]
  },
  {
   "cell_type": "code",
   "execution_count": 14,
   "metadata": {},
   "outputs": [],
   "source": [
    "# Select numerical features to scale\n",
    "numerical_features = ['CompetitionDistance', 'Promo2SinceYear', 'Promo2SinceWeek']\n",
    "\n",
    "scaler = StandardScaler()\n",
    "train[numerical_features] = scaler.fit_transform(train[numerical_features])\n",
    "test[numerical_features] = scaler.transform(test[numerical_features])"
   ]
  },
  {
   "cell_type": "markdown",
   "metadata": {},
   "source": [
    "#### Building a Machine Learning Pipeline\n",
    "\n",
    "In this section, we define a machine learning pipeline using `Pipeline` from `sklearn.pipeline`. The pipeline includes the following steps:\n",
    "- **Scaling**: We use `StandardScaler` to normalize numerical features.\n",
    "- **Modeling**: We use `RandomForestRegressor` to predict sales, setting the number of estimators to 100 and using a random seed for reproducibility.\n",
    "\n",
    "We also split the dataset into training and validation sets before fitting the pipeline and making predictions. Finally, we calculate the model's performance using Mean Squared Error (MSE)."
   ]
  },
  {
   "cell_type": "code",
   "execution_count": 32,
   "metadata": {},
   "outputs": [
    {
     "name": "stdout",
     "output_type": "stream",
     "text": [
      "Mean Squared Error: 10947924.795049373\n"
     ]
    }
   ],
   "source": [
    "import numpy as np\n",
    "import pandas as pd\n",
    "from sklearn.pipeline import Pipeline\n",
    "from sklearn.compose import ColumnTransformer\n",
    "from sklearn.preprocessing import OneHotEncoder, StandardScaler\n",
    "from sklearn.impute import SimpleImputer\n",
    "from sklearn.ensemble import RandomForestRegressor\n",
    "from sklearn.model_selection import train_test_split\n",
    "from sklearn.metrics import mean_squared_error\n",
    "from sklearn.base import TransformerMixin\n",
    "\n",
    "# Define a transformer for converting boolean columns to integers\n",
    "class BooleanToInteger(TransformerMixin):\n",
    "    def fit(self, X, y=None):\n",
    "        return self\n",
    "    \n",
    "    def transform(self, X):\n",
    "        return X.astype(int)\n",
    "\n",
    "# Categorical columns (boolean and other categorical)\n",
    "categorical_cols = ['StoreType_b', 'StoreType_c', 'StoreType_d', 'Assortment_b', 'Assortment_c']\n",
    "numerical_cols = ['CompetitionDistance', 'Promo2SinceYear', 'Promo2SinceWeek']  # Include numerical columns here\n",
    "\n",
    "# Preprocessing for boolean columns\n",
    "boolean_transformer = Pipeline(steps=[\n",
    "    ('convert_bool', BooleanToInteger()),  # Convert bool to int\n",
    "    ('onehot', OneHotEncoder(handle_unknown='ignore'))  # One-hot encode categorical data\n",
    "])\n",
    "\n",
    "# Preprocessing for numerical data\n",
    "numerical_transformer = Pipeline(steps=[\n",
    "    ('imputer', SimpleImputer(strategy='median')),  # Fill missing values\n",
    "    ('scaler', StandardScaler())  # Scale numerical data\n",
    "])\n",
    "\n",
    "# Bundle preprocessing for both numerical and boolean data\n",
    "preprocessor = ColumnTransformer(\n",
    "    transformers=[\n",
    "        ('num', numerical_transformer, numerical_cols),\n",
    "        ('bool', boolean_transformer, categorical_cols)  # Boolean columns processing\n",
    "    ])\n",
    "\n",
    "# Define the full pipeline with preprocessing and model\n",
    "pipeline = Pipeline(steps=[\n",
    "    ('preprocessor', preprocessor),\n",
    "    ('model', RandomForestRegressor(n_estimators=100, random_state=42))\n",
    "])\n",
    "\n",
    "# Separate features and target\n",
    "X = train.drop(['Sales', 'Date'], axis=1)  # Drop the target and unneeded columns\n",
    "y = train['Sales']\n",
    "\n",
    "# Split the data into training and validation sets\n",
    "X_train, X_valid, y_train, y_valid = train_test_split(X, y, test_size=0.2, random_state=42)\n",
    "\n",
    "# Train the model\n",
    "pipeline.fit(X_train, y_train)\n",
    "\n",
    "# Predict on the validation set\n",
    "y_pred = pipeline.predict(X_valid)\n",
    "\n",
    "# Evaluate the model\n",
    "mse = mean_squared_error(y_valid, y_pred)\n",
    "print(f'Mean Squared Error: {mse}')"
   ]
  },
  {
   "cell_type": "markdown",
   "metadata": {},
   "source": [
    "#### Analyzing Feature Importance\n",
    "\n",
    "After training the Random Forest model, we analyze the feature importance to understand which features are most relevant for predicting sales. We extract the feature importance values from the model and create a DataFrame that lists the features in order of importance, helping us gain insights into the model's decision-making process."
   ]
  },
  {
   "cell_type": "code",
   "execution_count": 39,
   "metadata": {},
   "outputs": [
    {
     "name": "stdout",
     "output_type": "stream",
     "text": [
      "                Feature  Importance\n",
      "0   CompetitionDistance    0.674754\n",
      "1       Promo2SinceYear    0.067779\n",
      "2       Promo2SinceWeek    0.061350\n",
      "3         StoreType_b_0    0.037081\n",
      "4         StoreType_b_1    0.035739\n",
      "5         StoreType_c_0    0.022623\n",
      "6         StoreType_c_1    0.022284\n",
      "12       Assortment_c_1    0.021817\n",
      "11       Assortment_c_0    0.019396\n",
      "7         StoreType_d_0    0.018624\n",
      "8         StoreType_d_1    0.018510\n",
      "10       Assortment_b_1    0.000022\n",
      "9        Assortment_b_0    0.000021\n"
     ]
    },
    {
     "data": {
      "image/png": "[encoded data removed]",
      "text/plain": [
       "<Figure size 1000x600 with 1 Axes>"
      ]
     },
     "metadata": {},
     "output_type": "display_data"
    }
   ],
   "source": [
    "import matplotlib.pyplot as plt\n",
    "# import numpy as np\n",
    "\n",
    "# Get the feature names after transformation\n",
    "preprocessed_columns = numerical_cols + \\\n",
    "    list(pipeline.named_steps['preprocessor'].transformers_[1][1].named_steps['onehot'].get_feature_names_out(categorical_cols))\n",
    "\n",
    "# Access feature importance from the model inside the pipeline\n",
    "importances = pipeline.named_steps['model'].feature_importances_\n",
    "\n",
    "# Create a dataframe for feature importances\n",
    "feature_importances = pd.DataFrame({'Feature': preprocessed_columns, 'Importance': importances})\n",
    "feature_importances = feature_importances.sort_values(by='Importance', ascending=False)\n",
    "print(feature_importances)\n",
    "# Plot feature importance\n",
    "plt.figure(figsize=(10, 6))\n",
    "plt.barh(feature_importances['Feature'], feature_importances['Importance'])\n",
    "plt.xlabel('Importance')\n",
    "plt.ylabel('Feature')\n",
    "plt.title('Feature Importance')\n",
    "plt.gca().invert_yaxis()  # Invert y-axis to show the highest importance at the top\n",
    "plt.show()"
   ]
  },
  {
   "cell_type": "markdown",
   "metadata": {},
   "source": [
    "#### Save the Model\n",
    "\n",
    "This code snippet saves the trained machine learning model along with its preprocessing pipeline using the `joblib` library. A unique filename is created based on the current timestamp to ensure each model is easily identifiable.\n",
    "\n",
    "The following code implements this process:\n"
   ]
  },
  {
   "cell_type": "code",
   "execution_count": 40,
   "metadata": {},
   "outputs": [
    {
     "name": "stdout",
     "output_type": "stream",
     "text": [
      "Model saved as: model-24-09-2024-18-59-21-441214.pkl\n"
     ]
    }
   ],
   "source": [
    "import joblib\n",
    "from datetime import datetime\n",
    "\n",
    "# Get the current date and time to create a timestamp\n",
    "timestamp = datetime.now().strftime('%d-%m-%Y-%H-%M-%S-%f')\n",
    "\n",
    "# Define the filename with the timestamp\n",
    "model_filename = f'model-{timestamp}.pkl'\n",
    "\n",
    "# Serialize the pipeline (model + preprocessor)\n",
    "joblib.dump(pipeline, model_filename)\n",
    "\n",
    "print(f'Model saved as: {model_filename}')"
   ]
  }
 ],
 "metadata": {
  "kernelspec": {
   "display_name": "venv",
   "language": "python",
   "name": "python3"
  },
  "language_info": {
   "codemirror_mode": {
    "name": "ipython",
    "version": 3
   },
   "file_extension": ".py",
   "mimetype": "text/x-python",
   "name": "python",
   "nbconvert_exporter": "python",
   "pygments_lexer": "ipython3",
   "version": "3.12.5"
  }
 },
 "nbformat": 4,
 "nbformat_minor": 2
}
